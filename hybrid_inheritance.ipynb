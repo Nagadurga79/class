{
 "cells": [
  {
   "cell_type": "code",
   "execution_count": 1,
   "id": "84c12c06",
   "metadata": {},
   "outputs": [
    {
     "name": "stdout",
     "output_type": "stream",
     "text": [
      "Animal speaks\n",
      "Mammal gives birth\n",
      "Bird lays eggs\n"
     ]
    }
   ],
   "source": [
    "class Animal:\n",
    "    def speak(self):\n",
    "        print(\"Animal speaks\")\n",
    "\n",
    "\n",
    "class Mammal(Animal):\n",
    "    def give_birth(self):\n",
    "        print(\"Mammal gives birth\")\n",
    "\n",
    "\n",
    "class Bird(Animal):\n",
    "    def lay_eggs(self):\n",
    "        print(\"Bird lays eggs\")\n",
    "\n",
    "\n",
    "class Platypus(Mammal, Bird):\n",
    "    pass\n",
    "\n",
    "\n",
    "platypus = Platypus()\n",
    "platypus.speak()        # Method from Animal class\n",
    "platypus.give_birth()   # Method from Mammal class\n",
    "platypus.lay_eggs()    # Method from Bird class\n"
   ]
  },
  {
   "cell_type": "code",
   "execution_count": 2,
   "id": "5d964779",
   "metadata": {},
   "outputs": [
    {
     "name": "stdout",
     "output_type": "stream",
     "text": [
      "Vehicle moves\n",
      "Car drives\n",
      "Boat sails\n",
      "Amphibious vehicle can both drive and sail\n"
     ]
    }
   ],
   "source": [
    "class Vehicle:\n",
    "    def move(self):\n",
    "        print(\"Vehicle moves\")\n",
    "\n",
    "\n",
    "class Car(Vehicle):\n",
    "    def drive(self):\n",
    "        print(\"Car drives\")\n",
    "\n",
    "\n",
    "class Boat(Vehicle):\n",
    "    def sail(self):\n",
    "        print(\"Boat sails\")\n",
    "\n",
    "\n",
    "class AmphibiousVehicle(Car, Boat):\n",
    "    def amphibious_action(self):\n",
    "        print(\"Amphibious vehicle can both drive and sail\")\n",
    "\n",
    "\n",
    "amphibious_vehicle = AmphibiousVehicle()\n",
    "amphibious_vehicle.move()\n",
    "amphibious_vehicle.drive()\n",
    "amphibious_vehicle.sail()\n",
    "amphibious_vehicle.amphibious_action()\n"
   ]
  }
 ],
 "metadata": {
  "kernelspec": {
   "display_name": "Python 3 (ipykernel)",
   "language": "python",
   "name": "python3"
  },
  "language_info": {
   "codemirror_mode": {
    "name": "ipython",
    "version": 3
   },
   "file_extension": ".py",
   "mimetype": "text/x-python",
   "name": "python",
   "nbconvert_exporter": "python",
   "pygments_lexer": "ipython3",
   "version": "3.10.9"
  }
 },
 "nbformat": 4,
 "nbformat_minor": 5
}
